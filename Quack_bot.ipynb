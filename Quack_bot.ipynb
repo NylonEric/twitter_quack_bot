{
 "cells": [
  {
   "cell_type": "code",
   "execution_count": 13,
   "metadata": {},
   "outputs": [],
   "source": [
    "#!/usr/bin/env python\n",
    "# coding: utf-8\n",
    "\n",
    "from twitterscraper.query import query_tweets_from_user\n",
    "import time\n",
    "import re\n",
    "import sys\n",
    "import pyphen\n",
    "from twython import Twython\n",
    "import json\n",
    "from auth import (\n",
    "    consumer_key,\n",
    "    consumer_secret,\n",
    "    access_token,\n",
    "    access_token_secret\n",
    ")"
   ]
  },
  {
   "cell_type": "code",
   "execution_count": 14,
   "metadata": {
    "scrolled": true
   },
   "outputs": [
    {
     "name": "stderr",
     "output_type": "stream",
     "text": [
      "INFO: Scraping tweets from https://twitter.com/hankgreen\n",
      "INFO: Using proxy 185.189.199.75:23500\n",
      "INFO: Got 14 tweets from username hankgreen\n"
     ]
    },
    {
     "name": "stdout",
     "output_type": "stream",
     "text": [
      "current tweet: AHHHHH!!!! First review of \"A Beautifully Foolish Endeavor\" is in! Starred from @LibraryJournal.\n",
      "\n",
      "You can read the un-redacted one here: https://www.libraryjournal.com/?reviewDetail=a-beautifully-foolish-endeavor …pic.twitter.com/pZ9u0l01mo \n",
      "\n",
      "penultimate tweet: Every good tweet is just a worse TikTok. \n",
      "\n"
     ]
    }
   ],
   "source": [
    "if __name__ == '__main__':\n",
    "    target_user = 'hankgreen'\n",
    "    list_of_tweets = query_tweets_from_user(target_user, 10)\n",
    "    current_tweet = list_of_tweets[0].text\n",
    "    penultimate_tweet = list_of_tweets[1].text\n",
    "    \n",
    "    print(\"current tweet:\", current_tweet, \"\\n\")\n",
    "    print(\"penultimate tweet:\", penultimate_tweet, \"\\n\")\n",
    "    tweet_state = 'tweet_output.json'\n",
    " \n",
    "    #print the retrieved tweets to the screen:\n",
    "    #for single_tweet in list_of_tweets:\n",
    "    #    print(single_tweet.text, single_tweet.timestamp, \"\\n\")\n",
    "        "
   ]
  },
  {
   "cell_type": "code",
   "execution_count": 15,
   "metadata": {},
   "outputs": [
    {
     "name": "stdout",
     "output_type": "stream",
     "text": [
      "former tweets: \n",
      "\n",
      "tweet[0]: AHHHHH!!!! First review of \"A Beautifully Foolish Endeavor\" is in! Starred from @LibraryJournal.\n",
      "\n",
      "You can read the un-redacted one here: https://www.libraryjournal.com/?reviewDetail=a-beautifully-foolish-endeavor …pic.twitter.com/pZ9u0l01mo \n",
      "\n",
      "tweet[1]: They really did stab Caesar. Like, that wasn't just a story...he was a real guy who was all, \"I think I'm dictator now!?\" and they were like, \"STAB STAB STAB STAB!\" \n",
      "\n"
     ]
    }
   ],
   "source": [
    "    former_tweet_zero = \"\"\n",
    "    former_tweet_one = \"\"\n",
    "    try:    \n",
    "        with open(tweet_state) as json_file:\n",
    "            former_tweets = json.load(json_file)\n",
    "            for t in former_tweets['tweets']:\n",
    "                print('former tweets:','\\n')\n",
    "                former_tweet_zero = t['tweet_zero']\n",
    "                former_tweet_one = t['tweet_one']\n",
    "    except:\n",
    "        print('error in opening former tweets in', tweet_state)\n",
    "    finally:\n",
    "        print('tweet[0]:', former_tweet_zero, \"\\n\")\n",
    "        print('tweet[1]:', former_tweet_one, \"\\n\")  "
   ]
  },
  {
   "cell_type": "code",
   "execution_count": 16,
   "metadata": {},
   "outputs": [],
   "source": [
    "def quacked(tweet):\n",
    "    split_tweet = tweet.split()\n",
    "    #print(split_tweet)\n",
    "    quacked_tweet_array = []\n",
    "    \n",
    "    pyphen.language_fallback('nl_NL_variant1')\n",
    "    dic = pyphen.Pyphen(lang='nl_NL')\n",
    "    \n",
    "    #iterate over each word in tweet\n",
    "    for word in split_tweet:\n",
    "        punctuation = ''\n",
    "        punctuation_split = re.findall(r\"[\\w']+|[.,!?;]\", word)\n",
    "        #print(punctuation_split)\n",
    "        quacked_word = dic.inserted(word)\n",
    "        \n",
    "        # handle weblinks \n",
    "        if 'http' in word: \n",
    "            quacked_word = \" \" + word\n",
    "            \n",
    "        elif len(punctuation_split) > 1:\n",
    "            word = punctuation_split[0]\n",
    "            punctuation = punctuation_split[1:]\n",
    "            punctuation = \"\".join(punctuation)\n",
    "            if word.isupper():\n",
    "                quacked_word = 'Quack'\n",
    "            else:\n",
    "                quacked_word = 'quack'\n",
    "            #print('punctuation separated')\n",
    "      #if words are multi-syllabic, replace the first syllable   \n",
    "        elif '-' in quacked_word:\n",
    "            quacked_split_word = quacked_word.split(\"-\")\n",
    "            if quacked_split_word[0][0].isupper():\n",
    "                quacked_split_word[0] = 'Quack'\n",
    "            else:\n",
    "                quacked_split_word[0] = 'quack'\n",
    "            quacked_word = \"\".join(quacked_split_word)  \n",
    "        else:\n",
    "            if quacked_word[0].isupper():\n",
    "                quacked_word = 'Quack'\n",
    "            else:\n",
    "                quacked_word = 'quack'\n",
    "                \n",
    "        # add quacked word to new array\n",
    "        if punctuation != '':\n",
    "            quacked_word = quacked_word + punctuation\n",
    "        #print(word)\n",
    "        #print(quacked_word)\n",
    "        if quacked_word != '':\n",
    "            quacked_tweet_array.append(quacked_word)\n",
    "        #print(quacked_tweet_array)\n",
    "        \n",
    "    #join array to make new string\n",
    "    quacked_tweet = \" \".join(quacked_tweet_array)\n",
    "    return quacked_tweet"
   ]
  },
  {
   "cell_type": "code",
   "execution_count": 17,
   "metadata": {},
   "outputs": [],
   "source": [
    "def tweet(text):\n",
    "    twitter = Twython(\n",
    "        consumer_key,\n",
    "        consumer_secret,\n",
    "        access_token,\n",
    "        access_token_secret\n",
    "    )    \n",
    "    message = text\n",
    "    \n",
    "    if len(text) > 280:\n",
    "        tweet_textA = '1/2 ' + message[0:131] + '...'\n",
    "        tweet_textB = '2/2 ...' + message[131:]\n",
    "        twitter.update_status(status=tweet_textA)\n",
    "        time.sleep(7)\n",
    "        twitter.update_status(status=tweet_textB)\n",
    "        print('message too long: split into two tweets:\\nTweet Text A: ' + tweet_textA + '\\nTweet Text B: ', tweet_textB)\n",
    "        \n",
    "    else:\n",
    "        twitter.update_status(status=message)\n",
    "        print(\"Message tweeted: %s\" % message)"
   ]
  },
  {
   "cell_type": "code",
   "execution_count": 18,
   "metadata": {},
   "outputs": [
    {
     "name": "stdout",
     "output_type": "stream",
     "text": [
      "change detected in penultimate tweet, pinned tweet likely\n"
     ]
    },
    {
     "ename": "TwythonError",
     "evalue": "Twitter API returned a 403 (Forbidden), Status is a duplicate.",
     "output_type": "error",
     "traceback": [
      "\u001b[0;31m---------------------------------------------------------------------------\u001b[0m",
      "\u001b[0;31mTwythonError\u001b[0m                              Traceback (most recent call last)",
      "\u001b[0;32m<ipython-input-18-3dcd1c0a891d>\u001b[0m in \u001b[0;36m<module>\u001b[0;34m\u001b[0m\n\u001b[1;32m      8\u001b[0m         \u001b[0;31m#send tweet\u001b[0m\u001b[0;34m\u001b[0m\u001b[0;34m\u001b[0m\u001b[0;34m\u001b[0m\u001b[0m\n\u001b[1;32m      9\u001b[0m     \u001b[0mquacked_tweet\u001b[0m \u001b[0;34m=\u001b[0m \u001b[0mquacked\u001b[0m\u001b[0;34m(\u001b[0m\u001b[0mpenultimate_tweet\u001b[0m\u001b[0;34m)\u001b[0m\u001b[0;34m\u001b[0m\u001b[0;34m\u001b[0m\u001b[0m\n\u001b[0;32m---> 10\u001b[0;31m     \u001b[0mtweet\u001b[0m\u001b[0;34m(\u001b[0m\u001b[0mquacked_tweet\u001b[0m\u001b[0;34m)\u001b[0m\u001b[0;34m\u001b[0m\u001b[0;34m\u001b[0m\u001b[0m\n\u001b[0m\u001b[1;32m     11\u001b[0m \u001b[0;34m\u001b[0m\u001b[0m\n\u001b[1;32m     12\u001b[0m         \u001b[0;31m#save new tweet to persistent storage:\u001b[0m\u001b[0;34m\u001b[0m\u001b[0;34m\u001b[0m\u001b[0;34m\u001b[0m\u001b[0m\n",
      "\u001b[0;32m<ipython-input-17-51fc2a43a505>\u001b[0m in \u001b[0;36mtweet\u001b[0;34m(text)\u001b[0m\n\u001b[1;32m     17\u001b[0m \u001b[0;34m\u001b[0m\u001b[0m\n\u001b[1;32m     18\u001b[0m     \u001b[0;32melse\u001b[0m\u001b[0;34m:\u001b[0m\u001b[0;34m\u001b[0m\u001b[0;34m\u001b[0m\u001b[0m\n\u001b[0;32m---> 19\u001b[0;31m         \u001b[0mtwitter\u001b[0m\u001b[0;34m.\u001b[0m\u001b[0mupdate_status\u001b[0m\u001b[0;34m(\u001b[0m\u001b[0mstatus\u001b[0m\u001b[0;34m=\u001b[0m\u001b[0mmessage\u001b[0m\u001b[0;34m)\u001b[0m\u001b[0;34m\u001b[0m\u001b[0;34m\u001b[0m\u001b[0m\n\u001b[0m\u001b[1;32m     20\u001b[0m         \u001b[0mprint\u001b[0m\u001b[0;34m(\u001b[0m\u001b[0;34m\"Message tweeted: %s\"\u001b[0m \u001b[0;34m%\u001b[0m \u001b[0mmessage\u001b[0m\u001b[0;34m)\u001b[0m\u001b[0;34m\u001b[0m\u001b[0;34m\u001b[0m\u001b[0m\n",
      "\u001b[0;32m~/anaconda3/lib/python3.7/site-packages/twython/endpoints.py\u001b[0m in \u001b[0;36mupdate_status\u001b[0;34m(self, **params)\u001b[0m\n\u001b[1;32m    121\u001b[0m \u001b[0;34m\u001b[0m\u001b[0m\n\u001b[1;32m    122\u001b[0m         \"\"\"\n\u001b[0;32m--> 123\u001b[0;31m         \u001b[0;32mreturn\u001b[0m \u001b[0mself\u001b[0m\u001b[0;34m.\u001b[0m\u001b[0mpost\u001b[0m\u001b[0;34m(\u001b[0m\u001b[0;34m'statuses/update'\u001b[0m\u001b[0;34m,\u001b[0m \u001b[0mparams\u001b[0m\u001b[0;34m=\u001b[0m\u001b[0mparams\u001b[0m\u001b[0;34m)\u001b[0m\u001b[0;34m\u001b[0m\u001b[0;34m\u001b[0m\u001b[0m\n\u001b[0m\u001b[1;32m    124\u001b[0m \u001b[0;34m\u001b[0m\u001b[0m\n\u001b[1;32m    125\u001b[0m     \u001b[0;32mdef\u001b[0m \u001b[0mretweet\u001b[0m\u001b[0;34m(\u001b[0m\u001b[0mself\u001b[0m\u001b[0;34m,\u001b[0m \u001b[0;34m**\u001b[0m\u001b[0mparams\u001b[0m\u001b[0;34m)\u001b[0m\u001b[0;34m:\u001b[0m\u001b[0;34m\u001b[0m\u001b[0;34m\u001b[0m\u001b[0m\n",
      "\u001b[0;32m~/anaconda3/lib/python3.7/site-packages/twython/api.py\u001b[0m in \u001b[0;36mpost\u001b[0;34m(self, endpoint, params, version)\u001b[0m\n\u001b[1;32m    272\u001b[0m     \u001b[0;32mdef\u001b[0m \u001b[0mpost\u001b[0m\u001b[0;34m(\u001b[0m\u001b[0mself\u001b[0m\u001b[0;34m,\u001b[0m \u001b[0mendpoint\u001b[0m\u001b[0;34m,\u001b[0m \u001b[0mparams\u001b[0m\u001b[0;34m=\u001b[0m\u001b[0;32mNone\u001b[0m\u001b[0;34m,\u001b[0m \u001b[0mversion\u001b[0m\u001b[0;34m=\u001b[0m\u001b[0;34m'1.1'\u001b[0m\u001b[0;34m)\u001b[0m\u001b[0;34m:\u001b[0m\u001b[0;34m\u001b[0m\u001b[0;34m\u001b[0m\u001b[0m\n\u001b[1;32m    273\u001b[0m         \u001b[0;34m\"\"\"Shortcut for POST requests via :class:`request`\"\"\"\u001b[0m\u001b[0;34m\u001b[0m\u001b[0;34m\u001b[0m\u001b[0m\n\u001b[0;32m--> 274\u001b[0;31m         \u001b[0;32mreturn\u001b[0m \u001b[0mself\u001b[0m\u001b[0;34m.\u001b[0m\u001b[0mrequest\u001b[0m\u001b[0;34m(\u001b[0m\u001b[0mendpoint\u001b[0m\u001b[0;34m,\u001b[0m \u001b[0;34m'POST'\u001b[0m\u001b[0;34m,\u001b[0m \u001b[0mparams\u001b[0m\u001b[0;34m=\u001b[0m\u001b[0mparams\u001b[0m\u001b[0;34m,\u001b[0m \u001b[0mversion\u001b[0m\u001b[0;34m=\u001b[0m\u001b[0mversion\u001b[0m\u001b[0;34m)\u001b[0m\u001b[0;34m\u001b[0m\u001b[0;34m\u001b[0m\u001b[0m\n\u001b[0m\u001b[1;32m    275\u001b[0m \u001b[0;34m\u001b[0m\u001b[0m\n\u001b[1;32m    276\u001b[0m     \u001b[0;32mdef\u001b[0m \u001b[0mget_lastfunction_header\u001b[0m\u001b[0;34m(\u001b[0m\u001b[0mself\u001b[0m\u001b[0;34m,\u001b[0m \u001b[0mheader\u001b[0m\u001b[0;34m,\u001b[0m \u001b[0mdefault_return_value\u001b[0m\u001b[0;34m=\u001b[0m\u001b[0;32mNone\u001b[0m\u001b[0;34m)\u001b[0m\u001b[0;34m:\u001b[0m\u001b[0;34m\u001b[0m\u001b[0;34m\u001b[0m\u001b[0m\n",
      "\u001b[0;32m~/anaconda3/lib/python3.7/site-packages/twython/api.py\u001b[0m in \u001b[0;36mrequest\u001b[0;34m(self, endpoint, method, params, version)\u001b[0m\n\u001b[1;32m    262\u001b[0m \u001b[0;34m\u001b[0m\u001b[0m\n\u001b[1;32m    263\u001b[0m         content = self._request(url, method=method, params=params,\n\u001b[0;32m--> 264\u001b[0;31m                                 api_call=url)\n\u001b[0m\u001b[1;32m    265\u001b[0m \u001b[0;34m\u001b[0m\u001b[0m\n\u001b[1;32m    266\u001b[0m         \u001b[0;32mreturn\u001b[0m \u001b[0mcontent\u001b[0m\u001b[0;34m\u001b[0m\u001b[0;34m\u001b[0m\u001b[0m\n",
      "\u001b[0;32m~/anaconda3/lib/python3.7/site-packages/twython/api.py\u001b[0m in \u001b[0;36m_request\u001b[0;34m(self, url, method, params, api_call)\u001b[0m\n\u001b[1;32m    197\u001b[0m                 \u001b[0merror_message\u001b[0m\u001b[0;34m,\u001b[0m\u001b[0;34m\u001b[0m\u001b[0;34m\u001b[0m\u001b[0m\n\u001b[1;32m    198\u001b[0m                 \u001b[0merror_code\u001b[0m\u001b[0;34m=\u001b[0m\u001b[0mresponse\u001b[0m\u001b[0;34m.\u001b[0m\u001b[0mstatus_code\u001b[0m\u001b[0;34m,\u001b[0m\u001b[0;34m\u001b[0m\u001b[0;34m\u001b[0m\u001b[0m\n\u001b[0;32m--> 199\u001b[0;31m                 retry_after=response.headers.get('X-Rate-Limit-Reset'))\n\u001b[0m\u001b[1;32m    200\u001b[0m         \u001b[0mcontent\u001b[0m \u001b[0;34m=\u001b[0m \u001b[0;34m''\u001b[0m\u001b[0;34m\u001b[0m\u001b[0;34m\u001b[0m\u001b[0m\n\u001b[1;32m    201\u001b[0m         \u001b[0;32mtry\u001b[0m\u001b[0;34m:\u001b[0m\u001b[0;34m\u001b[0m\u001b[0;34m\u001b[0m\u001b[0m\n",
      "\u001b[0;31mTwythonError\u001b[0m: Twitter API returned a 403 (Forbidden), Status is a duplicate."
     ]
    }
   ],
   "source": [
    "if (current_tweet == former_tweet_zero) & (penultimate_tweet == former_tweet_one):\n",
    "        print(\"no change\")\n",
    "        print('exit program')\n",
    "        pass\n",
    "elif (current_tweet == former_tweet_zero) & (penultimate_tweet != former_tweet_one): \n",
    "    print(\"change detected in penultimate tweet, pinned tweet likely\")\n",
    "       \n",
    "        #send tweet\n",
    "    quacked_tweet = quacked(penultimate_tweet)\n",
    "    tweet(quacked_tweet)\n",
    "\n",
    "        #save new tweet to persistent storage:\n",
    "    current_tweets_object = {}\n",
    "    current_tweets_object['tweets'] = []\n",
    "    current_tweets_object['tweets'].append({\n",
    "        'tweet_zero': current_tweet,\n",
    "        'tweet_one': penultimate_tweet \n",
    "    })\n",
    "    try:\n",
    "        with open(tweet_state, 'w') as json_file:\n",
    "            #file.write(current_tweet)\n",
    "            json.dump(current_tweets_object, json_file)\n",
    "            print(\"current tweets saved: Current tweet: \", current_tweet, \"\\nPenultimate tweet: \", penultimate_tweet)\n",
    "    except:\n",
    "        print('error saving ', tweet_state)\n",
    "else:\n",
    "    print(\"Change detected\")\n",
    "\n",
    "        #send tweet\n",
    "    quacked_tweet = quacked(current_tweet)\n",
    "    tweet(quacked_tweet)\n",
    "\n",
    "        #save new tweet to persistent storage:\n",
    "    current_tweets_object = {}\n",
    "    current_tweets_object['tweets'] = []\n",
    "    current_tweets_object['tweets'].append({\n",
    "        'tweet_zero': current_tweet,\n",
    "        'tweet_one': penultimate_tweet \n",
    "    })\n",
    "    try: \n",
    "        with open(tweet_state, 'w') as json_file:\n",
    "            json.dump(current_tweets_object, json_file)\n",
    "            print(\"Current tweets saved: Current tweet: \", current_tweet, \"\\nPenultimate tweet: \", penultimate_tweet)\n",
    "    except:\n",
    "        print('error saving ', tweet_state)    \n",
    "print('End Program')"
   ]
  },
  {
   "cell_type": "code",
   "execution_count": null,
   "metadata": {},
   "outputs": [],
   "source": []
  }
 ],
 "metadata": {
  "kernelspec": {
   "display_name": "Python 3",
   "language": "python",
   "name": "python3"
  },
  "language_info": {
   "codemirror_mode": {
    "name": "ipython",
    "version": 3
   },
   "file_extension": ".py",
   "mimetype": "text/x-python",
   "name": "python",
   "nbconvert_exporter": "python",
   "pygments_lexer": "ipython3",
   "version": "3.7.3"
  }
 },
 "nbformat": 4,
 "nbformat_minor": 2
}
